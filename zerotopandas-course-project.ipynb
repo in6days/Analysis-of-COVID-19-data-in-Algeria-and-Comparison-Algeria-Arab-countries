{
 "cells": [
  {
   "cell_type": "markdown",
   "metadata": {},
   "source": [
    "\n",
    "# Analysis of COVID-19 data in Algeria and Comparison: Algeria & Arab countries\n",
    "\n",
    "\n",
    "## Introduction\n",
    "\n",
    "The COVID-19 pandemic in Algeria is part of the worldwide pandemic of coronavirus disease 2019 (COVID-19) caused by severe acute respiratory syndrome coronavirus 2 (SARS-CoV-2). The virus was confirmed to have spread to Algeria in February 2020.\n",
    "\n",
    "The project on Analysis of COVID-19 data in Algeria and Comparison; confirmed cases and deaths, daily and monthly statistics from January to September 2020, analyzed in Algeria, its provinces, and then compared with Arab countries. As follows:\n",
    "\n",
    "* Data Preparation and Cleaning\n",
    "* Exploratory Analysis and Visualization\n",
    "* Asking and Answering Questions\n",
    "  - Part (I): Algeria & its Provinces\n",
    "  - Part (II): Algeria & Arab countries\n",
    "* Inferences and Conclusion\n",
    "* References and Future Work\n",
    "* Call\n",
    "\n",
    "In this project, I will try to use most of what I have learned in this great course [Data Analysis with Python: Zero to Pandas](http://zerotopandas.com) to the analysis of COVID-19 data in my nice country Algeria and Comparised with Arab countries. To come out with results that may benefit Algeria and the world in the future."
   ]
  },
  {
   "cell_type": "markdown",
   "metadata": {},
   "source": [
    "# Project Title"
   ]
  },
  {
   "cell_type": "code",
   "execution_count": null,
   "metadata": {},
   "outputs": [],
   "source": [
    "project_name = \"Analysis of COVID-19 data in Algeria and Comparison: Algeria & Arab countries\" "
   ]
  },
  {
   "cell_type": "code",
   "execution_count": null,
   "metadata": {},
   "outputs": [],
   "source": [
    "!pip install jovian --upgrade -q"
   ]
  },
  {
   "cell_type": "code",
   "execution_count": null,
   "metadata": {},
   "outputs": [],
   "source": [
    "import jovian"
   ]
  },
  {
   "cell_type": "code",
   "execution_count": null,
   "metadata": {},
   "outputs": [],
   "source": [
    "jovian.commit(project=project_name)"
   ]
  },
  {
   "cell_type": "markdown",
   "metadata": {},
   "source": [
    "# Data Preparation and Cleaning\n",
    "\n",
    "### Importing  libraries\n",
    "\n",
    "* pandas\n",
    "* matplotlib\n",
    "* seaborn\n",
    "* numpy\n",
    "* jovian"
   ]
  },
  {
   "cell_type": "code",
   "execution_count": null,
   "metadata": {},
   "outputs": [],
   "source": [
    "import pandas as pd\n",
    "import matplotlib\n",
    "import matplotlib.pyplot as plt\n",
    "import seaborn as sns\n",
    "%matplotlib inline\n",
    "import numpy as np"
   ]
  },
  {
   "cell_type": "markdown",
   "metadata": {},
   "source": [
    "### Configuring styles"
   ]
  },
  {
   "cell_type": "code",
   "execution_count": null,
   "metadata": {},
   "outputs": [],
   "source": [
    "sns.set_style(\"darkgrid\")\n",
    "matplotlib.rcParams['font.size'] = 14\n",
    "matplotlib.rcParams['figure.figsize'] = (9, 5)\n",
    "matplotlib.rcParams['figure.facecolor'] = '#00000000'"
   ]
  },
  {
   "cell_type": "markdown",
   "metadata": {},
   "source": [
    "### Algeria location in Africa; map"
   ]
  },
  {
   "cell_type": "code",
   "execution_count": null,
   "metadata": {},
   "outputs": [],
   "source": [
    "from PIL import Image\n",
    "img = Image.open('algeria_north_africa.jpg') \n",
    "plt.grid(False)\n",
    "plt.title('Algeria')\n",
    "plt.axis('off')\n",
    "plt.imshow(img);\n",
    "# Source: https://www.mapsland.com/africa/algeria/detailed-location-map-of-algeria"
   ]
  },
  {
   "cell_type": "markdown",
   "metadata": {},
   "source": [
    "### Reading a file about daily Covid-19 data in Algeria using Pandas"
   ]
  },
  {
   "cell_type": "code",
   "execution_count": null,
   "metadata": {},
   "outputs": [],
   "source": [
    "covid_dz = pd.read_csv('algeria-covid-data.csv')\n",
    "covid_dz"
   ]
  },
  {
   "cell_type": "markdown",
   "metadata": {},
   "source": [
    "By looking at the data frame:\n",
    "\n",
    "- The file provides three daywise counts for Covid-19 in Algeria.\n",
    "- There are: date, new_cases, new_deaths. \n",
    "- Data is provided for 275 days: from Dec 31, 2019 to Sep 30, 2020."
   ]
  },
  {
   "cell_type": "markdown",
   "metadata": {},
   "source": [
    "### View some basic information about the data frame"
   ]
  },
  {
   "cell_type": "code",
   "execution_count": null,
   "metadata": {},
   "outputs": [],
   "source": [
    "covid_dz.info()"
   ]
  },
  {
   "cell_type": "markdown",
   "metadata": {},
   "source": [
    "It appears that each column contains values of a specific data type."
   ]
  },
  {
   "cell_type": "markdown",
   "metadata": {},
   "source": [
    " ### View some statistical information"
   ]
  },
  {
   "cell_type": "code",
   "execution_count": null,
   "metadata": {},
   "outputs": [],
   "source": [
    "covid_dz.describe()"
   ]
  },
  {
   "cell_type": "markdown",
   "metadata": {},
   "source": [
    "In new deaths data, we can see that the mean value is 6, standard deviation 5, minimum 0 & the maximum value is 42."
   ]
  },
  {
   "cell_type": "markdown",
   "metadata": {},
   "source": [
    "### List of columns"
   ]
  },
  {
   "cell_type": "code",
   "execution_count": null,
   "metadata": {},
   "outputs": [],
   "source": [
    "covid_dz.columns.tolist()"
   ]
  },
  {
   "cell_type": "markdown",
   "metadata": {},
   "source": [
    "### Number of days (dates) in the data frame "
   ]
  },
  {
   "cell_type": "code",
   "execution_count": null,
   "metadata": {},
   "outputs": [],
   "source": [
    "covid_dz.shape[0]\n",
    "print('There are {} days in the dataset'.format(covid_dz.shape[0]))"
   ]
  },
  {
   "cell_type": "markdown",
   "metadata": {},
   "source": [
    "### A random sample of rows from the data frame"
   ]
  },
  {
   "cell_type": "code",
   "execution_count": null,
   "metadata": {},
   "outputs": [],
   "source": [
    "covid_dz.sample(10)"
   ]
  },
  {
   "cell_type": "markdown",
   "metadata": {},
   "source": [
    "### List of dates"
   ]
  },
  {
   "cell_type": "code",
   "execution_count": null,
   "metadata": {},
   "outputs": [],
   "source": [
    "covid_dz['date']"
   ]
  },
  {
   "cell_type": "markdown",
   "metadata": {},
   "source": [
    "There are 275 days: from Dec 31, 2019 to Sep 30, 2020"
   ]
  },
  {
   "cell_type": "markdown",
   "metadata": {},
   "source": [
    "### List of New cases"
   ]
  },
  {
   "cell_type": "code",
   "execution_count": null,
   "metadata": {},
   "outputs": [],
   "source": [
    "covid_dz.new_cases"
   ]
  },
  {
   "cell_type": "markdown",
   "metadata": {},
   "source": [
    "### List of New deaths"
   ]
  },
  {
   "cell_type": "code",
   "execution_count": null,
   "metadata": {},
   "outputs": [],
   "source": [
    "covid_dz.new_deaths"
   ]
  },
  {
   "cell_type": "markdown",
   "metadata": {},
   "source": [
    "### Number of missing new cases"
   ]
  },
  {
   "cell_type": "code",
   "execution_count": null,
   "metadata": {},
   "outputs": [],
   "source": [
    "new_cases_missing = covid_dz.new_cases.isna().sum()\n",
    "print('There are {} missing new cases in the dataset'.format(new_cases_missing))"
   ]
  },
  {
   "cell_type": "markdown",
   "metadata": {},
   "source": [
    "### Number of missing new deaths"
   ]
  },
  {
   "cell_type": "code",
   "execution_count": null,
   "metadata": {},
   "outputs": [],
   "source": [
    "new_deaths_missing = covid_dz.new_deaths.isna().sum()\n",
    "print('There are {} missing new deaths in the dataset'.format(new_deaths_missing))"
   ]
  },
  {
   "cell_type": "markdown",
   "metadata": {},
   "source": [
    "### Compare the new cases vs. new deaths"
   ]
  },
  {
   "cell_type": "code",
   "execution_count": null,
   "metadata": {},
   "outputs": [],
   "source": [
    "compare_dz = covid_dz[['new_cases','new_deaths']]\n",
    "compare_dz"
   ]
  },
  {
   "cell_type": "markdown",
   "metadata": {},
   "source": [
    "### Date of rise first case"
   ]
  },
  {
   "cell_type": "code",
   "execution_count": null,
   "metadata": {},
   "outputs": [],
   "source": [
    "covid_first_case = covid_dz.loc[55:60]\n",
    "covid_first_case"
   ]
  },
  {
   "cell_type": "markdown",
   "metadata": {},
   "source": [
    " The first case was on Feb 26, 2020"
   ]
  },
  {
   "cell_type": "markdown",
   "metadata": {},
   "source": [
    "### Date of first death"
   ]
  },
  {
   "cell_type": "code",
   "execution_count": null,
   "metadata": {},
   "outputs": [],
   "source": [
    "covid_first_death = covid_dz.loc[65:75]\n",
    "covid_first_death "
   ]
  },
  {
   "cell_type": "markdown",
   "metadata": {},
   "source": [
    "The first death was on March 13, 2020"
   ]
  },
  {
   "cell_type": "markdown",
   "metadata": {},
   "source": [
    "### Dates with the highest new cases"
   ]
  },
  {
   "cell_type": "code",
   "execution_count": null,
   "metadata": {},
   "outputs": [],
   "source": [
    "highest_cases = covid_dz.sort_values('new_cases', ascending=False).head(10)\n",
    "highest_cases"
   ]
  },
  {
   "cell_type": "markdown",
   "metadata": {},
   "source": [
    "* All dates with the highest new cases are in July\n",
    "* July 25, 2020 was the day with the highest new cases at all"
   ]
  },
  {
   "cell_type": "markdown",
   "metadata": {},
   "source": [
    "### Dates with the highest new deaths"
   ]
  },
  {
   "cell_type": "code",
   "execution_count": null,
   "metadata": {},
   "outputs": [],
   "source": [
    "highest_deaths = covid_dz.sort_values('new_deaths', ascending=False).head(10)\n",
    "highest_deaths"
   ]
  },
  {
   "cell_type": "markdown",
   "metadata": {},
   "source": [
    "* All dates with the highest new deaths are in April\n",
    "* April 04, 2020 was the day with the highest new deaths at all"
   ]
  },
  {
   "cell_type": "markdown",
   "metadata": {},
   "source": [
    "### Dates before & after April 04, 2020"
   ]
  },
  {
   "cell_type": "code",
   "execution_count": null,
   "metadata": {},
   "outputs": [],
   "source": [
    "covid_dz.loc[90:100]"
   ]
  },
  {
   "cell_type": "markdown",
   "metadata": {},
   "source": [
    "The number of deaths was low, then suddenly increased to 42, and then gradually decreased"
   ]
  },
  {
   "cell_type": "markdown",
   "metadata": {},
   "source": [
    "### Dates with the lowest new cases"
   ]
  },
  {
   "cell_type": "code",
   "execution_count": null,
   "metadata": {},
   "outputs": [],
   "source": [
    "lowest_cases = covid_dz[covid_dz.new_cases > 0].sort_values('new_cases').head(10)\n",
    "lowest_cases"
   ]
  },
  {
   "cell_type": "markdown",
   "metadata": {},
   "source": [
    "* Most dates with the lowest new cases are in March\n",
    "* Feb 26, March 14, 2020 were the days with the lowest new cases at all"
   ]
  },
  {
   "cell_type": "markdown",
   "metadata": {},
   "source": [
    "### Dates with the lowest new deaths"
   ]
  },
  {
   "cell_type": "code",
   "execution_count": null,
   "metadata": {},
   "outputs": [],
   "source": [
    "lowest_deaths = covid_dz[covid_dz.new_deaths > 0].sort_values('new_deaths').head(10)\n",
    "lowest_deaths"
   ]
  },
  {
   "cell_type": "markdown",
   "metadata": {},
   "source": [
    "* Most dates with the lowest new deaths are in March\n",
    "* March 13, 14, 18, 19, 20, 28, 2020 were the days with the lowest new deaths at all"
   ]
  },
  {
   "cell_type": "code",
   "execution_count": null,
   "metadata": {},
   "outputs": [],
   "source": []
  },
  {
   "cell_type": "code",
   "execution_count": null,
   "metadata": {},
   "outputs": [],
   "source": [
    "import jovian"
   ]
  },
  {
   "cell_type": "code",
   "execution_count": null,
   "metadata": {},
   "outputs": [],
   "source": [
    "jovian.commit()"
   ]
  },
  {
   "cell_type": "markdown",
   "metadata": {},
   "source": [
    "# Exploratory Analysis and Visualization\n",
    "\n"
   ]
  },
  {
   "cell_type": "markdown",
   "metadata": {},
   "source": [
    "### The number of total cases & total deaths in Algeria"
   ]
  },
  {
   "cell_type": "code",
   "execution_count": null,
   "metadata": {},
   "outputs": [],
   "source": [
    "total_cases = covid_dz.new_cases.sum()\n",
    "total_deaths = covid_dz.new_deaths.sum()\n",
    "print('The number of total cases is {} and the number of total deaths is {} in Algeria; Until September 30, 2020 '.format(int(total_cases), int(total_deaths)))"
   ]
  },
  {
   "cell_type": "markdown",
   "metadata": {},
   "source": [
    "*Pie chart of the number of total cases & total deaths in Algeria*"
   ]
  },
  {
   "cell_type": "code",
   "execution_count": null,
   "metadata": {},
   "outputs": [],
   "source": [
    "labels = 'total cases', 'total deaths'\n",
    "total = [51368, 1726]\n",
    "explode = (0, 0) \n",
    "\n",
    "fig1, ax1 = plt.subplots()\n",
    "ax1.pie(total, explode=explode, labels=labels, autopct='%1.1f%%', shadow=True, startangle=90)\n",
    "ax1.axis('equal')  \n",
    "ax1.set_title(\"COVID-19 Total Cases & Total Deaths in Algeria\\n\")\n",
    "\n",
    "plt.show()"
   ]
  },
  {
   "cell_type": "markdown",
   "metadata": {},
   "source": [
    "### The average of total cases & total deaths in Algeria"
   ]
  },
  {
   "cell_type": "code",
   "execution_count": null,
   "metadata": {},
   "outputs": [],
   "source": [
    "avrg_cases = covid_dz.new_cases.mean()\n",
    "avrg_deaths = covid_dz.new_deaths.mean()\n",
    "print('The average of total cases is {} and the average of total deaths is {} in Algeria.'.format(int(avrg_cases), int(avrg_deaths)))"
   ]
  },
  {
   "cell_type": "markdown",
   "metadata": {},
   "source": [
    "### The overall death rate in Algeria"
   ]
  },
  {
   "cell_type": "code",
   "execution_count": null,
   "metadata": {},
   "outputs": [],
   "source": [
    "death_rate = covid_dz.new_deaths.sum() / covid_dz.new_cases.sum()\n",
    "print(\"The overall death rate in Algeria is {:.2f} %.\".format(death_rate*100))"
   ]
  },
  {
   "cell_type": "markdown",
   "metadata": {},
   "source": [
    "### List of high new cases"
   ]
  },
  {
   "cell_type": "code",
   "execution_count": null,
   "metadata": {},
   "outputs": [],
   "source": [
    "high_new_cases = covid_dz.new_cases > 600\n",
    "covid_dz[high_new_cases]"
   ]
  },
  {
   "cell_type": "markdown",
   "metadata": {},
   "source": [
    "The highest new cases are greater than 600"
   ]
  },
  {
   "cell_type": "markdown",
   "metadata": {},
   "source": [
    " ### List of high new deaths"
   ]
  },
  {
   "cell_type": "code",
   "execution_count": null,
   "metadata": {},
   "outputs": [],
   "source": [
    "high_new_deaths = covid_dz.new_deaths > 20\n",
    "covid_dz[high_new_deaths]"
   ]
  },
  {
   "cell_type": "markdown",
   "metadata": {},
   "source": [
    "The highest new deaths are between 20 and 42"
   ]
  },
  {
   "cell_type": "markdown",
   "metadata": {},
   "source": [
    "### Extract dates into separate columns: year, month, day & weekday"
   ]
  },
  {
   "cell_type": "code",
   "execution_count": null,
   "metadata": {},
   "outputs": [],
   "source": [
    "covid_dz['year'] = pd.DatetimeIndex(covid_dz.date).year\n",
    "covid_dz['month'] = pd.DatetimeIndex(covid_dz.date).month\n",
    "covid_dz['day'] = pd.DatetimeIndex(covid_dz.date).day\n",
    "covid_dz['weekday'] = pd.DatetimeIndex(covid_dz.date).weekday # weekday: the day of the week with Monday=0, Sunday=6\n",
    "covid_dz"
   ]
  },
  {
   "cell_type": "markdown",
   "metadata": {},
   "source": [
    "###  The month with the highest number of new deaths: total cases & total deaths"
   ]
  },
  {
   "cell_type": "code",
   "execution_count": null,
   "metadata": {},
   "outputs": [],
   "source": [
    "print('July')\n",
    "covid_dz[covid_dz.month == 7][['new_cases', 'new_deaths']].sum()"
   ]
  },
  {
   "cell_type": "markdown",
   "metadata": {},
   "source": [
    "### Summarize the daywise data and create a new data frame with month-wise data"
   ]
  },
  {
   "cell_type": "code",
   "execution_count": null,
   "metadata": {},
   "outputs": [],
   "source": [
    "covid_month_dz = covid_dz.groupby('month')[['new_cases', 'new_deaths']].sum()\n",
    "covid_month_dz"
   ]
  },
  {
   "cell_type": "markdown",
   "metadata": {},
   "source": [
    "### The monthly averages"
   ]
  },
  {
   "cell_type": "code",
   "execution_count": null,
   "metadata": {},
   "outputs": [],
   "source": [
    "covid_month_avrg_dz = covid_dz.groupby('month')[['new_cases', 'new_deaths']].mean()\n",
    "covid_month_avrg_dz"
   ]
  },
  {
   "cell_type": "markdown",
   "metadata": {},
   "source": [
    "### Calculate the cumulative sum of cases & deaths. Let's add 2 new columns: `total_cases`, `total_deaths`"
   ]
  },
  {
   "cell_type": "code",
   "execution_count": null,
   "metadata": {},
   "outputs": [],
   "source": [
    "covid_dz['total_cases'] = covid_dz.new_cases.cumsum()\n",
    "covid_dz['total_deaths'] = covid_dz.new_deaths.cumsum()\n",
    "covid_dz"
   ]
  },
  {
   "cell_type": "markdown",
   "metadata": {},
   "source": [
    "### Plot the new cases per day "
   ]
  },
  {
   "cell_type": "code",
   "execution_count": null,
   "metadata": {},
   "outputs": [],
   "source": [
    "plt.figure(figsize=(12,6))\n",
    "plt.title('COVID-19 Daily New Cases in Algeria')\n",
    "covid_dz.new_cases.plot(color='purple');"
   ]
  },
  {
   "cell_type": "code",
   "execution_count": null,
   "metadata": {},
   "outputs": [],
   "source": [
    "plt.figure(figsize=(12,6))\n",
    "plt.title('COVID-19 Daily New Cases in Algeria')\n",
    "covid_dz.new_cases.plot(kind='area', color='purple');"
   ]
  },
  {
   "cell_type": "markdown",
   "metadata": {},
   "source": [
    "* The number of cases was low, then gradually increased, then decreased slightly, then suddenly increased to reach it's maximum, then gradually decreased.\n",
    "* We notice that the disease has two waves of spread:\n",
    "  - The First: the speed of spread was medium\n",
    "  - The second: the speed of spread was very fast\n"
   ]
  },
  {
   "cell_type": "code",
   "execution_count": null,
   "metadata": {},
   "outputs": [],
   "source": [
    "plt.figure(figsize=(12,6))\n",
    "plt.title('New Cases Range in Algeria')\n",
    "plt.xlabel('New Cases')\n",
    "plt.ylabel('Values')\n",
    "plt.hist(covid_dz.new_cases, bins=np.arange(1, 675, 10), color='orchid');"
   ]
  },
  {
   "cell_type": "markdown",
   "metadata": {},
   "source": [
    "Most new cases are lying in the range of fewer than 200 cases per day"
   ]
  },
  {
   "cell_type": "markdown",
   "metadata": {},
   "source": [
    "### Plot the new deaths per day "
   ]
  },
  {
   "cell_type": "code",
   "execution_count": null,
   "metadata": {},
   "outputs": [],
   "source": [
    "plt.figure(figsize=(12,6))\n",
    "plt.title('COVID-19 Daily New Deaths in Algeria')\n",
    "covid_dz.new_deaths.plot(color='red');"
   ]
  },
  {
   "cell_type": "code",
   "execution_count": null,
   "metadata": {},
   "outputs": [],
   "source": [
    "plt.figure(figsize=(12,6))\n",
    "plt.title('COVID-19 Daily New Deaths in Algeria')\n",
    "covid_dz.new_deaths.plot(kind='area', color='red');"
   ]
  },
  {
   "cell_type": "markdown",
   "metadata": {},
   "source": [
    "The number of deaths was low, then it suddenly increased to its maximum, then began to gradually decrease, then began to fluctuate within a range of less than 15"
   ]
  },
  {
   "cell_type": "code",
   "execution_count": null,
   "metadata": {},
   "outputs": [],
   "source": [
    "plt.figure(figsize=(12,6))\n",
    "plt.title('New Deaths Range in Algeria')\n",
    "plt.xlabel('New Deaths')\n",
    "plt.ylabel('Values')\n",
    "plt.hist(covid_dz.new_deaths, bins=np.arange(1, 42, 1), color='hotpink');"
   ]
  },
  {
   "cell_type": "markdown",
   "metadata": {},
   "source": [
    "Most new deaths are lying in the range of fewer than 15 deaths per day"
   ]
  },
  {
   "cell_type": "markdown",
   "metadata": {},
   "source": [
    "### Compare the new cases vs. new deaths"
   ]
  },
  {
   "cell_type": "code",
   "execution_count": null,
   "metadata": {},
   "outputs": [],
   "source": [
    "plt.figure(figsize=(12,6))\n",
    "plt.title('COVID-19 Daily New Cases & Deaths in Algeria')\n",
    "covid_dz.new_cases.plot(color='purple')\n",
    "covid_dz.new_deaths.plot(color='red');"
   ]
  },
  {
   "cell_type": "code",
   "execution_count": null,
   "metadata": {},
   "outputs": [],
   "source": [
    "plt.figure(figsize=(12,6))\n",
    "plt.title('COVID-19 Daily New Cases & Deaths in Algeria')\n",
    "covid_dz.new_cases.plot(kind='area', color='purple')\n",
    "covid_dz.new_deaths.plot(kind='area', color='red');"
   ]
  },
  {
   "cell_type": "markdown",
   "metadata": {},
   "source": [
    "The number of deaths is very small compared to the very large number of cases"
   ]
  },
  {
   "cell_type": "markdown",
   "metadata": {},
   "source": [
    "### compare the total cases vs. total deaths"
   ]
  },
  {
   "cell_type": "code",
   "execution_count": null,
   "metadata": {},
   "outputs": [],
   "source": [
    "plt.figure(figsize=(12,6))\n",
    "plt.title('COVID-19 Total cumulatively: Daily New Cases & New Deaths in Algeria')\n",
    "covid_dz.total_cases.plot(color='purple')\n",
    "covid_dz.total_deaths.plot(color='red');"
   ]
  },
  {
   "cell_type": "markdown",
   "metadata": {},
   "source": [
    "The number of deaths is very small, over all days, which is a good sign."
   ]
  },
  {
   "cell_type": "code",
   "execution_count": null,
   "metadata": {},
   "outputs": [],
   "source": [
    "plt.figure(figsize=(12,6))\n",
    "plt.title('COVID-19 Total cumulatively: Daily New Cases & New Deaths in Algeria')\n",
    "covid_dz.total_cases.plot(kind='area', color='purple')\n",
    "covid_dz.total_deaths.plot(kind='area',color='red');"
   ]
  },
  {
   "cell_type": "markdown",
   "metadata": {},
   "source": [
    "That confirms that most of those who were infected have recovered"
   ]
  },
  {
   "cell_type": "markdown",
   "metadata": {},
   "source": [
    "### Plot the new cases per month "
   ]
  },
  {
   "cell_type": "code",
   "execution_count": null,
   "metadata": {},
   "outputs": [],
   "source": [
    "plt.figure(figsize=(12,6))\n",
    "plt.title('COVID-19 Monthly New Cases in Algeria')\n",
    "covid_month_dz.new_cases.plot(color='blueviolet');"
   ]
  },
  {
   "cell_type": "code",
   "execution_count": null,
   "metadata": {},
   "outputs": [],
   "source": [
    "plt.figure(figsize=(12,6))\n",
    "plt.title('COVID-19 Monthly New Cases in Algeria')\n",
    "covid_month_dz.new_cases.plot(kind='area', color='blueviolet');"
   ]
  },
  {
   "cell_type": "code",
   "execution_count": null,
   "metadata": {},
   "outputs": [],
   "source": [
    "plt.figure(figsize=(12,6))\n",
    "plt.title('COVID-19 Monthly New Cases in Algeria')\n",
    "covid_month_dz.new_cases.plot(kind='barh', color='blueviolet' );"
   ]
  },
  {
   "cell_type": "markdown",
   "metadata": {},
   "source": [
    "* The most cases are in months: July & August\n",
    "* The most cases are in the summer season\n",
    "* That is, Covid-19 spreads in the summer when the temperature rates are high, as well"
   ]
  },
  {
   "cell_type": "markdown",
   "metadata": {},
   "source": [
    "### Plot the new deaths per month "
   ]
  },
  {
   "cell_type": "code",
   "execution_count": null,
   "metadata": {},
   "outputs": [],
   "source": [
    "plt.figure(figsize=(12,6))\n",
    "plt.title('COVID-19 Monthly New Deaths in Algeria')\n",
    "covid_month_dz.new_deaths.plot(color='orangered');"
   ]
  },
  {
   "cell_type": "code",
   "execution_count": null,
   "metadata": {},
   "outputs": [],
   "source": [
    "plt.figure(figsize=(12,6))\n",
    "plt.title('COVID-19 Monthly New Deaths in Algeria')\n",
    "covid_month_dz.new_deaths.plot(kind='area', color='orangered');"
   ]
  },
  {
   "cell_type": "code",
   "execution_count": null,
   "metadata": {},
   "outputs": [],
   "source": [
    "plt.figure(figsize=(12,6))\n",
    "plt.title('COVID-19 Monthly New Deaths in Algeria')\n",
    "covid_month_dz.new_deaths.plot(kind='barh', color='orangered');"
   ]
  },
  {
   "cell_type": "markdown",
   "metadata": {},
   "source": [
    "* The most deaths are between April & September\n",
    "* The most deaths are in the summer season\n",
    "* That is, Covid-19 spreads in the summer as well"
   ]
  },
  {
   "cell_type": "markdown",
   "metadata": {},
   "source": [
    "### Compare per month: the new cases vs. new deaths"
   ]
  },
  {
   "cell_type": "code",
   "execution_count": null,
   "metadata": {},
   "outputs": [],
   "source": [
    "plt.figure(figsize=(12,6))\n",
    "plt.title('COVID-19 Monthly New Cases & New Deaths in Algeria')\n",
    "covid_month_dz.new_cases.plot(color='blueviolet')\n",
    "covid_month_dz.new_deaths.plot(color='orangered');"
   ]
  },
  {
   "cell_type": "markdown",
   "metadata": {},
   "source": [
    "The number of deaths is very small, over all months, which is a good sign."
   ]
  },
  {
   "cell_type": "code",
   "execution_count": null,
   "metadata": {},
   "outputs": [],
   "source": [
    "plt.figure(figsize=(12,6))\n",
    "plt.title('COVID-19 Monthly New Cases & New Deaths in Algeria')\n",
    "covid_month_dz.new_cases.plot(kind='area', color='blueviolet')\n",
    "covid_month_dz.new_deaths.plot(kind='area', color='orangered');"
   ]
  },
  {
   "cell_type": "markdown",
   "metadata": {},
   "source": [
    "That confirms that most of those who were infected have recovered"
   ]
  },
  {
   "cell_type": "markdown",
   "metadata": {},
   "source": [
    "### Python list showing months, new cases & new deaths"
   ]
  },
  {
   "cell_type": "code",
   "execution_count": null,
   "metadata": {},
   "outputs": [],
   "source": [
    "months = ['Jan', 'Feb', 'Mar', 'Apr', 'May', 'Jun', 'Jul', 'Aug', 'Sep']\n",
    "new_cases = [1666, 1659, 2182, 3620, 5108, 4640, 12823, 9569, 5313]\n",
    "new_deaths = [48, 54, 75, 238, 206, 229, 257, 239, 182]"
   ]
  },
  {
   "cell_type": "markdown",
   "metadata": {},
   "source": [
    "### Line Chart: Monthly New Cases in Algeria"
   ]
  },
  {
   "cell_type": "code",
   "execution_count": null,
   "metadata": {},
   "outputs": [],
   "source": [
    "plt.figure(figsize=(12,6))\n",
    "plt.plot(months, new_cases,'s--b')\n",
    "\n",
    "plt.xlabel('Months')\n",
    "plt.ylabel('New Cases')\n",
    "\n",
    "plt.title(\"COVID-19 Monthly New Cases in Algeria\")\n",
    "plt.legend(['new cases']);"
   ]
  },
  {
   "cell_type": "markdown",
   "metadata": {},
   "source": [
    "* The number of cases was low in Jan & Feb\n",
    "* Gradually increased: Feb to May\n",
    "* Decreased slightly: May to Jun\n",
    "* Suddenly increased to reach it's maximum: Jun to Jul\n",
    "* Gradually decreased: Jul to Sep\n",
    "* The most cases are in months: July & August\n",
    "* The most cases are in the summer season"
   ]
  },
  {
   "cell_type": "markdown",
   "metadata": {},
   "source": [
    "### Line Chart: Monthly New Deaths in Algeria"
   ]
  },
  {
   "cell_type": "code",
   "execution_count": null,
   "metadata": {},
   "outputs": [],
   "source": [
    "plt.figure(figsize=(12,6))\n",
    "plt.plot(months, new_deaths, 'o-r')\n",
    "\n",
    "plt.xlabel('Months')\n",
    "plt.ylabel('New Deaths')\n",
    "\n",
    "plt.title(\"COVID-19 Monthly New Deaths in Algeria\")\n",
    "plt.legend(['new deaths']);"
   ]
  },
  {
   "cell_type": "markdown",
   "metadata": {},
   "source": [
    "* The number of deaths was low in Jan & Feb\n",
    "* Gradually increased: Feb to Mar\n",
    "* Suddenly increased: Mar to Apr\n",
    "* Decreased: Apr to May\n",
    "* Increased to reach it's maximum: May to Jul\n",
    "* Gradually decreased: Jul to Sep\n",
    "* The most deaths are between April & September\n",
    "* The most deaths are in the summer season"
   ]
  },
  {
   "cell_type": "markdown",
   "metadata": {},
   "source": [
    "### Line Chart: Monthly New Cases & New Deaths in Algeria"
   ]
  },
  {
   "cell_type": "code",
   "execution_count": null,
   "metadata": {},
   "outputs": [],
   "source": [
    "plt.figure(figsize=(12,6))\n",
    "plt.plot(months, new_cases, 's--b')\n",
    "plt.plot(months, new_deaths, 'o-r')\n",
    "\n",
    "plt.xlabel('Months')\n",
    "plt.ylabel('Values')\n",
    "\n",
    "plt.title(\"COVID-19 Monthly New Cases & New Deaths in Algeria\")\n",
    "plt.legend(['new cases', 'new deaths']);"
   ]
  },
  {
   "cell_type": "markdown",
   "metadata": {},
   "source": [
    "The number of deaths is very small compared to the number of cases, over all months, which is a good sign."
   ]
  },
  {
   "cell_type": "markdown",
   "metadata": {},
   "source": [
    "###  Two Bar Charts: Monthly New Cases & New Deaths in Algeria"
   ]
  },
  {
   "cell_type": "code",
   "execution_count": null,
   "metadata": {},
   "outputs": [],
   "source": [
    "fig, axs = plt.subplots(1, 2, figsize=(12, 6), sharey=True)\n",
    "axs[0].bar(months, new_cases,color='blueviolet')\n",
    "axs[1].bar(months, new_deaths, color='orangered')\n",
    "fig.suptitle('COVID-19 Monthly New Cases & New Deaths in Algeria');"
   ]
  },
  {
   "cell_type": "markdown",
   "metadata": {},
   "source": [
    "This explains that most of those infected have recovered"
   ]
  },
  {
   "cell_type": "markdown",
   "metadata": {},
   "source": [
    "### Some selected  Bar  & Pie Charts: Monthly New Cases & New Deaths in Algeria"
   ]
  },
  {
   "cell_type": "code",
   "execution_count": null,
   "metadata": {},
   "outputs": [],
   "source": [
    "plt.figure(figsize=(12,6))\n",
    "plt.title(\"COVID-19 Monthly New Cases & New Deaths in Algeria\")\n",
    "plt.bar(months, new_cases,color='blueviolet')\n",
    "plt.bar(months, new_deaths,color='orangered')\n",
    "plt.legend(['new cases', 'new deaths']);"
   ]
  },
  {
   "cell_type": "markdown",
   "metadata": {},
   "source": [
    "The number of deaths is very small, over all months, which is a good sign."
   ]
  },
  {
   "cell_type": "code",
   "execution_count": null,
   "metadata": {},
   "outputs": [],
   "source": [
    "\n",
    "data = ((1666, 48), (1659, 54), (2182, 75), (3620, 238), (5108, 206), (4640, 229), (12823, 257), (9569, 239), (5313, 182))\n",
    "\n",
    "dim = len(data[0])\n",
    "w = 0.75\n",
    "dimw = w / dim\n",
    "\n",
    "fig, ax = plt.subplots()\n",
    "x = np.arange(len(data))\n",
    "for i in range(len(data[0])):\n",
    "    y = [d[i] for d in data]\n",
    "    b = ax.bar(x + i * dimw, y, dimw, bottom=5)\n",
    "\n",
    "ax.set_xticks(x + dimw / 2)\n",
    "ax.set_xticklabels(map(str, x))\n",
    "ax.set_yscale('log')\n",
    "\n",
    "ax.set_xlabel('Months')\n",
    "ax.set_ylabel('Values')\n",
    "ax.legend(['new cases', 'new deaths'])\n",
    "ax.set_title(\"COVID-19 Monthly New Cases & New Deaths in Algeria\")\n",
    "\n",
    "plt.show()"
   ]
  },
  {
   "cell_type": "markdown",
   "metadata": {},
   "source": [
    "The number of deaths, over all months, is very clear here. We can see that it is greater than 100 from Apr to Sep"
   ]
  },
  {
   "cell_type": "code",
   "execution_count": null,
   "metadata": {},
   "outputs": [],
   "source": [
    "\n",
    "labels = ['Jan', 'Feb', 'Mar', 'Apr', 'May', 'Jun', 'Jul', 'Aug', 'Sep']\n",
    "new_cases = [1666, 1659, 2182, 3620, 5108, 4640, 12823, 9569, 5313]\n",
    "new_deaths = [48, 54, 75, 238, 206, 229, 257, 239, 182]\n",
    "\n",
    "x = np.arange(len(labels))  # the label locations\n",
    "width = 0.35  # the width of the bars\n",
    "\n",
    "fig, ax = plt.subplots()\n",
    "rects1 = ax.bar(x - width/2, new_cases, width, label='new cases', color='blueviolet')\n",
    "rects2 = ax.bar(x + width/2, new_deaths, width, label='new deaths', color='orangered')\n",
    "\n",
    "# Add some text for labels, title and custom x-axis tick labels, etc.\n",
    "ax.set_ylabel('Values')\n",
    "ax.set_title('COVID-19 Monthly New Cases & New Deaths in Algeria\\n')\n",
    "ax.set_xticks(x)\n",
    "ax.set_xticklabels(labels)\n",
    "ax.legend()\n",
    "\n",
    "\n",
    "def autolabel(rects):\n",
    "    \"\"\"Attach a text label above each bar in *rects*, displaying its height.\"\"\"\n",
    "    for rect in rects:\n",
    "        height = rect.get_height()\n",
    "        ax.annotate('{}'.format(height),\n",
    "                    xy=(rect.get_x() + rect.get_width() / 2, height),\n",
    "                    xytext=(0, 3),  # 3 points vertical offset\n",
    "                    textcoords=\"offset points\",\n",
    "                    ha='center', va='bottom')\n",
    "\n",
    "autolabel(rects1)\n",
    "autolabel(rects2)\n",
    "\n",
    "fig.tight_layout()\n",
    "\n",
    "plt.show()"
   ]
  },
  {
   "cell_type": "markdown",
   "metadata": {},
   "source": [
    "The number of all values, over all months, is very clear here. We can see that the greatest new cases were in Jul: 12823 & the greatest new deaths were: 257 in the same month"
   ]
  },
  {
   "cell_type": "markdown",
   "metadata": {},
   "source": [
    "### Pie Charts: Monthly New Cases in Algeria"
   ]
  },
  {
   "cell_type": "code",
   "execution_count": null,
   "metadata": {},
   "outputs": [],
   "source": [
    "# new cases\n",
    "labels = ['Jan', 'Feb', 'Mar', 'Apr', 'May', 'Jun', 'Jul', 'Aug', 'Sep']\n",
    "case_sizes = [1666, 1659, 2182, 3620, 5108, 4640, 12823, 9569, 5313]\n",
    "explode = (0.2, 0, 0.2, 0, 0.2, 0, 0.2, 0, 0) \n",
    "\n",
    "fig1, ax1 = plt.subplots()\n",
    "ax1.pie(case_sizes, explode=explode, labels=labels, autopct='%1.1f%%',\n",
    "        shadow=True, startangle=90)\n",
    "ax1.axis('equal')  \n",
    "ax1.set_title(\"COVID-19 Monthly New Cases in Algeria\\n\")\n",
    "\n",
    "plt.show()"
   ]
  },
  {
   "cell_type": "code",
   "execution_count": null,
   "metadata": {},
   "outputs": [],
   "source": [
    "labels =['Jan', 'Feb', 'Mar', 'Apr', 'May', 'Jun', 'Jul', 'Aug', 'Sep']\n",
    "case_sizes = [1666, 1659, 2182, 3620, 5108, 4640, 12823, 9569, 5313]\n",
    "\n",
    "fig1, ax1 = plt.subplots()\n",
    "pie1=plt.pie(case_sizes, labels=labels, autopct='%1.1f%%', radius=2)\n",
    "pie2=plt.pie([5], colors ='w', radius=1)\n",
    "\n",
    "ax1.axis('equal')  \n",
    "ax1.set_title(\"COVID-19 Monthly New Cases in Algeria\\n\")\n",
    "  \n",
    "plt.show()"
   ]
  },
  {
   "cell_type": "markdown",
   "metadata": {},
   "source": [
    "The comparison between Monthly New Cases is very easy here. July is the first."
   ]
  },
  {
   "cell_type": "markdown",
   "metadata": {},
   "source": [
    "### Pie Charts: Monthly New Deaths in Algeria"
   ]
  },
  {
   "cell_type": "code",
   "execution_count": null,
   "metadata": {},
   "outputs": [],
   "source": [
    "# new deaths\n",
    "labels = ['Jan', 'Feb', 'Mar', 'Apr', 'May', 'Jun', 'Jul', 'Aug', 'Sep']\n",
    "death_sizes = [48, 54, 75, 238, 206, 229, 257, 239, 182]\n",
    "explode = (0.2, 0, 0.2, 0, 0.2, 0, 0.2, 0, 0) \n",
    "\n",
    "fig1, ax1 = plt.subplots()\n",
    "ax1.pie(death_sizes, explode=explode, labels=labels, autopct='%1.1f%%',\n",
    "        shadow=True, startangle=90)\n",
    "ax1.axis('equal')  \n",
    "ax1.set_title(\"COVID-19 Monthly New Deaths in Algeria\\n\")\n",
    "\n",
    "plt.show()"
   ]
  },
  {
   "cell_type": "code",
   "execution_count": null,
   "metadata": {},
   "outputs": [],
   "source": [
    "labels =['Jan', 'Feb', 'Mar', 'Apr', 'May', 'Jun', 'Jul', 'Aug', 'Sep']\n",
    "death_sizes = [48, 54, 75, 238, 206, 229, 257, 239, 182]\n",
    "\n",
    "fig1, ax1 = plt.subplots()\n",
    "pie1=plt.pie(death_sizes, labels=labels, autopct='%1.1f%%', radius=2)\n",
    "pie2=plt.pie([5], colors ='w', radius=1)\n",
    "\n",
    "ax1.axis('equal')  \n",
    "ax1.set_title(\"COVID-19 Monthly New Deaths in Algeria\\n\")\n",
    "  \n",
    "plt.show()"
   ]
  },
  {
   "cell_type": "markdown",
   "metadata": {},
   "source": [
    "The comparison between Monthly New Deaths is very easy here. July is the first."
   ]
  },
  {
   "cell_type": "markdown",
   "metadata": {},
   "source": [
    "### Some selected charts"
   ]
  },
  {
   "cell_type": "code",
   "execution_count": null,
   "metadata": {},
   "outputs": [],
   "source": [
    "fig, axes = plt.subplots(2, 4, figsize=(20, 10))\n",
    "\n",
    "axes[0,0].set_title('Algeria')\n",
    "axes[0,0].imshow(img)\n",
    "axes[0,0].grid(False)\n",
    "axes[0,0].set_xticks([])\n",
    "axes[0,0].set_yticks([])\n",
    "\n",
    "axes[0,1].plot(months, new_cases,'s--b')\n",
    "axes[0,1].set_xlabel('Months')\n",
    "axes[0,1].set_ylabel('New Cases')\n",
    "axes[0,1].set_title(\"COVID-19 Monthly New Cases in Algeria\")\n",
    "axes[0,1].legend(['new cases']);\n",
    "\n",
    "axes[0,2].plot(months, new_deaths, 'o-r')\n",
    "axes[0,2].set_xlabel('Months')\n",
    "axes[0,2].set_ylabel('New Deaths')\n",
    "axes[0,2].set_title(\"COVID-19 Monthly New Deaths in Algeria\")\n",
    "axes[0,2].legend(['new deaths']);\n",
    "\n",
    "axes[0,3].plot(months, new_cases, 's--b')\n",
    "axes[0,3].plot(months, new_deaths, 'o-r')\n",
    "axes[0,3].set_xlabel('Months')\n",
    "axes[0,3].set_ylabel('Values')\n",
    "axes[0,3].set_title(\"Monthly New Cases & New Deaths in Algeria\")\n",
    "axes[0,3].legend(['new cases', 'new deaths']);\n",
    "\n",
    "axes[1,0].set_title('New Cases Range in Algeria')\n",
    "axes[1,0].set_xlabel('New Cases')\n",
    "axes[1,0].set_ylabel('Values')\n",
    "axes[1,0].hist(covid_dz.new_cases, bins=np.arange(1, 675, 10), color='orchid');\n",
    "\n",
    "axes[1,1].set_title('New Deaths Range in Algeria')\n",
    "axes[1,1].set_xlabel('New Deaths')\n",
    "axes[1,1].set_ylabel('Values')\n",
    "axes[1,1].hist(covid_dz.new_deaths, bins=np.arange(1, 42, 1), color='hotpink');\n",
    "\n",
    "axes[1,2].set_title(\"COVID-19 Monthly New Cases\")\n",
    "axes[1,2].bar(months, new_cases, color='blueviolet')\n",
    "axes[1,2].legend(['new cases', 'new deaths']);\n",
    "\n",
    "axes[1,3].set_title(\"COVID-19 Monthly New Cases & New Deaths in Algeria\")\n",
    "axes[1,3].bar(months, new_cases,color='blueviolet' )\n",
    "axes[1,3].bar(months, new_deaths, color='orangered')\n",
    "axes[1,3].legend(['new cases', 'new deaths']);\n",
    "\n",
    "plt.tight_layout(pad=2);"
   ]
  },
  {
   "cell_type": "code",
   "execution_count": null,
   "metadata": {},
   "outputs": [],
   "source": []
  },
  {
   "cell_type": "code",
   "execution_count": null,
   "metadata": {},
   "outputs": [],
   "source": [
    "import jovian"
   ]
  },
  {
   "cell_type": "code",
   "execution_count": null,
   "metadata": {},
   "outputs": [],
   "source": [
    "jovian.commit()"
   ]
  },
  {
   "cell_type": "markdown",
   "metadata": {},
   "source": [
    "# Asking and Answering Questions\n",
    "\n"
   ]
  },
  {
   "cell_type": "markdown",
   "metadata": {},
   "source": [
    "## Part (I): Algeria & its Provinces"
   ]
  },
  {
   "cell_type": "markdown",
   "metadata": {},
   "source": [
    "### Q 1): Is the number of cases & deaths per million people high or low?"
   ]
  },
  {
   "cell_type": "markdown",
   "metadata": {},
   "source": [
    "*Reading a file about world countries using Pandas*"
   ]
  },
  {
   "cell_type": "code",
   "execution_count": null,
   "metadata": {},
   "outputs": [],
   "source": [
    "countries_df = pd.read_csv('countries.csv')\n",
    "countries_df"
   ]
  },
  {
   "cell_type": "markdown",
   "metadata": {},
   "source": [
    "*An overview of Algeria data*"
   ]
  },
  {
   "cell_type": "code",
   "execution_count": null,
   "metadata": {},
   "outputs": [],
   "source": [
    "countries_df[countries_df.location == \"Algeria\"]"
   ]
  },
  {
   "cell_type": "markdown",
   "metadata": {},
   "source": [
    "*Marge this data into our existing data frame about Algeria by adding the column of 'location'*"
   ]
  },
  {
   "cell_type": "code",
   "execution_count": null,
   "metadata": {},
   "outputs": [],
   "source": [
    "covid_dz['location'] = \"Algeria\"\n",
    "covid_dz"
   ]
  },
  {
   "cell_type": "markdown",
   "metadata": {},
   "source": [
    "*Add the columns from `countries_df` into `covid_dz`*"
   ]
  },
  {
   "cell_type": "code",
   "execution_count": null,
   "metadata": {},
   "outputs": [],
   "source": [
    "merged_df = covid_dz.merge(countries_df, on=\"location\")\n",
    "merged_df"
   ]
  },
  {
   "cell_type": "markdown",
   "metadata": {},
   "source": [
    "*Calculate new cases & new deaths per million*"
   ]
  },
  {
   "cell_type": "code",
   "execution_count": null,
   "metadata": {},
   "outputs": [],
   "source": [
    "merged_df['new_cases_per_million'] = merged_df.new_cases * 1e6 / merged_df.population\n",
    "merged_df['new_deaths_per_million'] = merged_df.new_deaths * 1e6 / merged_df.population\n",
    "merged_df"
   ]
  },
  {
   "cell_type": "markdown",
   "metadata": {},
   "source": [
    "*Highest new cases per million*"
   ]
  },
  {
   "cell_type": "code",
   "execution_count": null,
   "metadata": {},
   "outputs": [],
   "source": [
    "highest_cases_per_millin_df = merged_df.sort_values('new_cases_per_million', ascending=False).head(10)\n",
    "highest_cases_per_millin_df"
   ]
  },
  {
   "cell_type": "markdown",
   "metadata": {},
   "source": [
    "*Highest new deaths per million*"
   ]
  },
  {
   "cell_type": "code",
   "execution_count": null,
   "metadata": {},
   "outputs": [],
   "source": [
    "highest_deaths_per_millin_df = merged_df.sort_values('new_deaths_per_million', ascending=False).head(10)\n",
    "highest_deaths_per_millin_df"
   ]
  },
  {
   "cell_type": "markdown",
   "metadata": {},
   "source": [
    "* **The number of new cases per million people in Algeria is low: less than 16** \n",
    "* **The number of new deaths per million people in Algeria is very low: less than 1**"
   ]
  },
  {
   "cell_type": "markdown",
   "metadata": {},
   "source": [
    "### Q 2): Has Covid-19 spread throughout all Algeria or only in some regions?"
   ]
  },
  {
   "cell_type": "markdown",
   "metadata": {},
   "source": [
    "*Reading a file about Algeria provinces data using Pandas*"
   ]
  },
  {
   "cell_type": "code",
   "execution_count": null,
   "metadata": {},
   "outputs": [],
   "source": [
    "provinces_df = pd.read_csv('alg-prov-covid.csv') # Latest update: October 02, 2020\n",
    "provinces_df"
   ]
  },
  {
   "cell_type": "markdown",
   "metadata": {},
   "source": [
    "*Number of provinces*"
   ]
  },
  {
   "cell_type": "code",
   "execution_count": null,
   "metadata": {},
   "outputs": [],
   "source": [
    "provinces_df.shape[0]\n",
    "print('There are {} provinces in Algeria'.format(provinces_df.shape[0]))"
   ]
  },
  {
   "cell_type": "markdown",
   "metadata": {},
   "source": [
    "*Plotting provinces data*"
   ]
  },
  {
   "cell_type": "code",
   "execution_count": null,
   "metadata": {},
   "outputs": [],
   "source": [
    "plt.figure(figsize=(16,8))\n",
    "plt.xticks(rotation=90)\n",
    "plt.title('COVID-19 Total Cases in Algeria Provinces')\n",
    "sns.barplot(provinces_df.province, provinces_df.total_cases);"
   ]
  },
  {
   "cell_type": "code",
   "execution_count": null,
   "metadata": {},
   "outputs": [],
   "source": [
    "plt.figure(figsize=(16,8))\n",
    "plt.title('COVID-19 Total Cases in Algeria Provinces')\n",
    "provinces_df.total_cases.plot(kind='bar', color='darkviolet');"
   ]
  },
  {
   "cell_type": "code",
   "execution_count": null,
   "metadata": {},
   "outputs": [],
   "source": [
    "plt.figure(figsize=(12,6))\n",
    "plt.title('COVID-19 Total Cases in Algeria Provinces')\n",
    "provinces_df.total_cases.plot(kind='area', color='darkviolet');"
   ]
  },
  {
   "cell_type": "code",
   "execution_count": null,
   "metadata": {},
   "outputs": [],
   "source": [
    "plt.figure(figsize=(16,8))\n",
    "plt.xticks(rotation=90)\n",
    "plt.title('COVID-19 Total Deaths in Algeria Provinces')\n",
    "sns.barplot(provinces_df.province, provinces_df.total_deaths);"
   ]
  },
  {
   "cell_type": "code",
   "execution_count": null,
   "metadata": {},
   "outputs": [],
   "source": [
    "plt.figure(figsize=(16,8))\n",
    "plt.title('COVID-19 Total Deaths in Algeria Provinces')\n",
    "provinces_df.total_deaths.plot(kind='bar', color='tomato');"
   ]
  },
  {
   "cell_type": "code",
   "execution_count": null,
   "metadata": {},
   "outputs": [],
   "source": [
    "plt.figure(figsize=(12,6))\n",
    "plt.title('COVID-19 Total Deaths in Algeria Provinces')\n",
    "provinces_df.total_deaths.plot(kind='area', color='tomato');"
   ]
  },
  {
   "cell_type": "code",
   "execution_count": null,
   "metadata": {},
   "outputs": [],
   "source": [
    "plt.figure(figsize=(12,12))\n",
    "plt.title('COVID-19 Total Cases in Algeria Provinces')\n",
    "provinces_df.total_cases.plot(kind='pie');"
   ]
  },
  {
   "cell_type": "code",
   "execution_count": null,
   "metadata": {},
   "outputs": [],
   "source": [
    "plt.figure(figsize=(12,12))\n",
    "plt.title('COVID-19 Total Deaths in Algeria Provinces')\n",
    "provinces_df.total_deaths.plot(kind='pie');"
   ]
  },
  {
   "cell_type": "markdown",
   "metadata": {},
   "source": [
    "* **Covid-19 spread throughout all Algeria**\n",
    "* **Cases appeared in all provinces**"
   ]
  },
  {
   "cell_type": "markdown",
   "metadata": {},
   "source": [
    "### Q 3): Which province did Covid-19 first appear in?"
   ]
  },
  {
   "cell_type": "code",
   "execution_count": null,
   "metadata": {},
   "outputs": [],
   "source": [
    "first_df = provinces_df[['province','first_case']]\n",
    "first_df"
   ]
  },
  {
   "cell_type": "markdown",
   "metadata": {},
   "source": [
    "* **Blida is the Algerian province where the first confirmed case of COVID-19 infection appeared on March 1, 2020**\n",
    "* **Note: On February 26, 2020, The confirmed case was of a foreign worker coming to Algeria from a foreign country.**"
   ]
  },
  {
   "cell_type": "markdown",
   "metadata": {},
   "source": [
    "### Q 4): Which provinces have the highest number of cases & which have the lowest number of cases?"
   ]
  },
  {
   "cell_type": "markdown",
   "metadata": {},
   "source": [
    "**Provinces have the highest number of cases**"
   ]
  },
  {
   "cell_type": "code",
   "execution_count": null,
   "metadata": {},
   "outputs": [],
   "source": [
    "highest_prov_cases = provinces_df.sort_values('total_cases', ascending=False).head(10)\n",
    "highest_prov_cases"
   ]
  },
  {
   "cell_type": "code",
   "execution_count": null,
   "metadata": {},
   "outputs": [],
   "source": [
    "plt.figure(figsize=(12,6))\n",
    "plt.xticks(rotation=75)\n",
    "plt.title('COVID-19, Provinces  with the Highest Cases')\n",
    "sns.barplot(highest_prov_cases.province, highest_prov_cases.total_cases);"
   ]
  },
  {
   "cell_type": "code",
   "execution_count": null,
   "metadata": {},
   "outputs": [],
   "source": [
    "plt.title('COVID-19, Provinces  with the Highest Cases')\n",
    "highest_prov_cases.total_cases.plot(kind='barh',color='darkviolet');"
   ]
  },
  {
   "cell_type": "markdown",
   "metadata": {},
   "source": [
    "**Provinces have the lowest number of cases**"
   ]
  },
  {
   "cell_type": "code",
   "execution_count": null,
   "metadata": {},
   "outputs": [],
   "source": [
    "lowest_prov_cases = provinces_df.sort_values('total_cases').head(10)\n",
    "lowest_prov_cases"
   ]
  },
  {
   "cell_type": "code",
   "execution_count": null,
   "metadata": {},
   "outputs": [],
   "source": [
    "plt.figure(figsize=(12,6))\n",
    "plt.xticks(rotation=75)\n",
    "plt.title('COVID-19, Provinces with the Lowest Cases')\n",
    "sns.barplot(lowest_prov_cases.province, lowest_prov_cases.total_cases);"
   ]
  },
  {
   "cell_type": "code",
   "execution_count": null,
   "metadata": {},
   "outputs": [],
   "source": [
    "plt.title('COVID-19, Provinces  with the Lowest Cases')\n",
    "lowest_prov_cases.total_cases.plot(kind='barh',color='darkviolet');"
   ]
  },
  {
   "cell_type": "markdown",
   "metadata": {},
   "source": [
    "### Q 5): Which provinces have the highest number of deaths & which have the lowest number of deaths?"
   ]
  },
  {
   "cell_type": "markdown",
   "metadata": {},
   "source": [
    "**Provinces have the highest number of deaths**"
   ]
  },
  {
   "cell_type": "code",
   "execution_count": null,
   "metadata": {},
   "outputs": [],
   "source": [
    "highest_prov_deaths = provinces_df.sort_values('total_deaths', ascending=False).head(10)\n",
    "highest_prov_deaths"
   ]
  },
  {
   "cell_type": "code",
   "execution_count": null,
   "metadata": {},
   "outputs": [],
   "source": [
    "plt.figure(figsize=(12,6))\n",
    "plt.xticks(rotation=75)\n",
    "plt.title('COVID-19, Provinces with the Highest Deaths')\n",
    "sns.barplot(highest_prov_deaths.province, highest_prov_deaths.total_deaths);"
   ]
  },
  {
   "cell_type": "code",
   "execution_count": null,
   "metadata": {},
   "outputs": [],
   "source": [
    "plt.title('COVID-19, Provinces with the Highest Deaths')\n",
    "highest_prov_deaths.total_deaths.plot(kind='barh', color='tomato');"
   ]
  },
  {
   "cell_type": "markdown",
   "metadata": {},
   "source": [
    "**Provinces have the lowest number of deaths**"
   ]
  },
  {
   "cell_type": "code",
   "execution_count": null,
   "metadata": {},
   "outputs": [],
   "source": [
    "lowest_prov_deaths = provinces_df.sort_values('total_deaths').head(10)\n",
    "lowest_prov_deaths"
   ]
  },
  {
   "cell_type": "code",
   "execution_count": null,
   "metadata": {},
   "outputs": [],
   "source": [
    "plt.figure(figsize=(12,6))\n",
    "plt.xticks(rotation=75)\n",
    "plt.title('COVID-19, Provinces with the Lowest Deaths')\n",
    "sns.barplot(lowest_prov_deaths.province, lowest_prov_deaths.total_deaths);"
   ]
  },
  {
   "cell_type": "markdown",
   "metadata": {},
   "source": [
    "No deaths in both of: Saïda & Illizi."
   ]
  },
  {
   "cell_type": "code",
   "execution_count": null,
   "metadata": {},
   "outputs": [],
   "source": [
    "plt.title('COVID-19, Provinces with the Lowest Deaths')\n",
    "lowest_prov_deaths.total_deaths.plot(kind='barh', color='tomato');"
   ]
  },
  {
   "cell_type": "markdown",
   "metadata": {},
   "source": [
    "## Part (II): Algeria & Arab countries"
   ]
  },
  {
   "cell_type": "code",
   "execution_count": null,
   "metadata": {},
   "outputs": [],
   "source": [
    "img2 = Image.open('arabic-countries-map.jpg')\n",
    "plt.grid(False)\n",
    "plt.title('Arab Countries')\n",
    "plt.axis('off')\n",
    "plt.imshow(img2);\n",
    "# Source: https://www.worldatlas.com/articles/arabic-speaking-countries.html"
   ]
  },
  {
   "cell_type": "markdown",
   "metadata": {},
   "source": [
    "### Q 6): Has Covid-19 spread across all Arab countries or only in Algeria?"
   ]
  },
  {
   "cell_type": "markdown",
   "metadata": {},
   "source": [
    "*Reading a file about Arab countries data using Pandas*"
   ]
  },
  {
   "cell_type": "code",
   "execution_count": null,
   "metadata": {},
   "outputs": [],
   "source": [
    "covid_arabic_countries_df = pd.read_csv('covid-arabic-coun-data.csv') # Latest update: Sep 18, 2020\n",
    "covid_arabic_countries_df"
   ]
  },
  {
   "cell_type": "markdown",
   "metadata": {},
   "source": [
    "*Arab countries: Total cases*"
   ]
  },
  {
   "cell_type": "code",
   "execution_count": null,
   "metadata": {},
   "outputs": [],
   "source": [
    "plt.figure(figsize=(16,8))\n",
    "plt.xticks(rotation=75)\n",
    "plt.title('COVID-19 Total Cases in Arab Countries')\n",
    "sns.barplot(covid_arabic_countries_df.location, covid_arabic_countries_df.total_cases);"
   ]
  },
  {
   "cell_type": "code",
   "execution_count": null,
   "metadata": {},
   "outputs": [],
   "source": [
    "plt.figure(figsize=(12,6))\n",
    "plt.title('COVID-19 Total Cases in Arab Countries')\n",
    "covid_arabic_countries_df.total_cases.plot(kind='bar', color='darkviolet');"
   ]
  },
  {
   "cell_type": "code",
   "execution_count": null,
   "metadata": {},
   "outputs": [],
   "source": [
    "plt.figure(figsize=(12,12))\n",
    "plt.title('COVID-19 Total Cases in Arab Countries')\n",
    "covid_arabic_countries_df.total_cases.plot(kind='pie');"
   ]
  },
  {
   "cell_type": "markdown",
   "metadata": {},
   "source": [
    "*Arab countries: Total deaths*"
   ]
  },
  {
   "cell_type": "code",
   "execution_count": null,
   "metadata": {},
   "outputs": [],
   "source": [
    "plt.figure(figsize=(16,8))\n",
    "plt.xticks(rotation=75)\n",
    "plt.title('COVID-19 Total Deaths in Arab Countries')\n",
    "sns.barplot(covid_arabic_countries_df.location, covid_arabic_countries_df.total_deaths);"
   ]
  },
  {
   "cell_type": "code",
   "execution_count": null,
   "metadata": {},
   "outputs": [],
   "source": [
    "plt.figure(figsize=(12,6))\n",
    "plt.title('COVID-19 Total Deaths in Arab Countries')\n",
    "covid_arabic_countries_df.total_deaths.plot(kind='bar',color='red');"
   ]
  },
  {
   "cell_type": "code",
   "execution_count": null,
   "metadata": {},
   "outputs": [],
   "source": [
    "plt.figure(figsize=(12,12))\n",
    "plt.title('COVID-19 Total Deaths in Arab Countries')\n",
    "covid_arabic_countries_df.total_deaths.plot(kind='pie');"
   ]
  },
  {
   "cell_type": "markdown",
   "metadata": {},
   "source": [
    "*Arab countries: Total cases & Total deaths*"
   ]
  },
  {
   "cell_type": "code",
   "execution_count": null,
   "metadata": {},
   "outputs": [],
   "source": [
    "plt.figure(figsize=(12,6))\n",
    "plt.title('COVID-19 Total Cases & Deaths in Arab Countries')\n",
    "covid_arabic_countries_df.total_cases.plot(kind='area', color='darkviolet')\n",
    "covid_arabic_countries_df.total_deaths.plot(kind='area',color='red');"
   ]
  },
  {
   "cell_type": "markdown",
   "metadata": {},
   "source": [
    "*Arab countries: An overview*"
   ]
  },
  {
   "cell_type": "code",
   "execution_count": null,
   "metadata": {},
   "outputs": [],
   "source": [
    "combined_df = covid_arabic_countries_df.merge(countries_df, on='location')\n",
    "combined_df"
   ]
  },
  {
   "cell_type": "markdown",
   "metadata": {},
   "source": [
    "*Arab countries: Sum of countries in each continent*"
   ]
  },
  {
   "cell_type": "code",
   "execution_count": null,
   "metadata": {},
   "outputs": [],
   "source": [
    "country_counts_df = combined_df.groupby('continent')[['location']].count()\n",
    "country_counts_df"
   ]
  },
  {
   "cell_type": "code",
   "execution_count": null,
   "metadata": {},
   "outputs": [],
   "source": [
    "plt.title('Arab countries: Sum of countries in each continent')\n",
    "country_counts_df.location.plot(kind='pie');"
   ]
  },
  {
   "cell_type": "markdown",
   "metadata": {},
   "source": [
    "*Arab countries: Population*"
   ]
  },
  {
   "cell_type": "code",
   "execution_count": null,
   "metadata": {},
   "outputs": [],
   "source": [
    "combined_df.population.sum()\n",
    "print('The total number of the population in the Arab countries: {} '.format(combined_df.population.sum()))"
   ]
  },
  {
   "cell_type": "markdown",
   "metadata": {},
   "source": [
    "*Arab countries: Sum of population in each continent*"
   ]
  },
  {
   "cell_type": "code",
   "execution_count": null,
   "metadata": {},
   "outputs": [],
   "source": [
    "continent_populations_df = combined_df.groupby('continent')[['population']].sum()\n",
    "continent_populations_df"
   ]
  },
  {
   "cell_type": "code",
   "execution_count": null,
   "metadata": {},
   "outputs": [],
   "source": [
    "plt.title('Arab countries: Sum of population in each continent')\n",
    "continent_populations_df.population.plot(kind='pie');"
   ]
  },
  {
   "cell_type": "markdown",
   "metadata": {},
   "source": [
    "*Arab countries: Total cases in each continent*"
   ]
  },
  {
   "cell_type": "code",
   "execution_count": null,
   "metadata": {},
   "outputs": [],
   "source": [
    "continent_cases_df = combined_df.groupby('continent')[['total_cases']].sum()\n",
    "continent_cases_df"
   ]
  },
  {
   "cell_type": "code",
   "execution_count": null,
   "metadata": {},
   "outputs": [],
   "source": [
    "plt.title('Arab countries: Total cases in each continent')\n",
    "continent_cases_df.total_cases.plot(kind='pie');"
   ]
  },
  {
   "cell_type": "markdown",
   "metadata": {},
   "source": [
    "*Arab countries: Total deaths in each continent*"
   ]
  },
  {
   "cell_type": "code",
   "execution_count": null,
   "metadata": {},
   "outputs": [],
   "source": [
    "continent_deaths_df = combined_df.groupby('continent')[['total_deaths']].sum()\n",
    "continent_deaths_df"
   ]
  },
  {
   "cell_type": "code",
   "execution_count": null,
   "metadata": {},
   "outputs": [],
   "source": [
    "plt.title('Arab countries: Total deaths in each continent')\n",
    "continent_deaths_df.total_deaths.plot(kind='pie');"
   ]
  },
  {
   "cell_type": "markdown",
   "metadata": {},
   "source": [
    "**Covid-19 was spread across all Arab countries, not only in Algeria**"
   ]
  },
  {
   "cell_type": "markdown",
   "metadata": {},
   "source": [
    "### Q 7): Is Algeria among the fisrt 10 Arab countries in the number of cases?"
   ]
  },
  {
   "cell_type": "code",
   "execution_count": null,
   "metadata": {},
   "outputs": [],
   "source": [
    "highest_cases_df = covid_arabic_countries_df.sort_values('total_cases', ascending=False).head(10)\n",
    "highest_cases_df"
   ]
  },
  {
   "cell_type": "code",
   "execution_count": null,
   "metadata": {},
   "outputs": [],
   "source": [
    "plt.figure(figsize=(12,6))\n",
    "plt.xticks(rotation=75)\n",
    "plt.title('COVID-19 Arab Countries with the Highest Cases')\n",
    "sns.barplot(highest_cases_df.location, highest_cases_df.total_cases);"
   ]
  },
  {
   "cell_type": "code",
   "execution_count": null,
   "metadata": {},
   "outputs": [],
   "source": [
    "plt.title('COVID-19 Arab Countries with the Highest Cases')\n",
    "highest_cases_df.total_cases.plot(kind='barh', color='darkviolet');"
   ]
  },
  {
   "cell_type": "markdown",
   "metadata": {},
   "source": [
    "**Yes; Algeria is among the first 10 Arab countries in the number of cases. It ranks 10th**"
   ]
  },
  {
   "cell_type": "markdown",
   "metadata": {},
   "source": [
    "### Q 8): Is Algeria among the first 10 Arab countries in the number of deaths?"
   ]
  },
  {
   "cell_type": "code",
   "execution_count": null,
   "metadata": {},
   "outputs": [],
   "source": [
    "highest_deaths_df = covid_arabic_countries_df.sort_values('total_deaths', ascending=False).head(10)\n",
    "highest_deaths_df"
   ]
  },
  {
   "cell_type": "code",
   "execution_count": null,
   "metadata": {},
   "outputs": [],
   "source": [
    "plt.figure(figsize=(12,6))\n",
    "plt.xticks(rotation=75)\n",
    "plt.title('COVID-19 Arab Countries with the Highest Deaths')\n",
    "sns.barplot(highest_deaths_df.location, highest_deaths_df.total_deaths);"
   ]
  },
  {
   "cell_type": "code",
   "execution_count": null,
   "metadata": {},
   "outputs": [],
   "source": [
    "plt.title('COVID-19 Arab Countries with the Highest Deaths')\n",
    "highest_deaths_df.total_deaths.plot(kind='barh', color='red');"
   ]
  },
  {
   "cell_type": "markdown",
   "metadata": {},
   "source": [
    "**Yes; Algeria is among the first 10 Arab countries in the number of deaths. It ranks 4th**"
   ]
  },
  {
   "cell_type": "markdown",
   "metadata": {},
   "source": [
    "### Q 9): Algeria is one of the first Arab countries on both lists: high 'total_cases & total_deaths'. Do the values have a relationship with the population in Algeria compared to Arab countries?"
   ]
  },
  {
   "cell_type": "code",
   "execution_count": null,
   "metadata": {},
   "outputs": [],
   "source": [
    "num_countries = pd.merge(highest_cases_df, highest_deaths_df)\n",
    "num_countries"
   ]
  },
  {
   "cell_type": "code",
   "execution_count": null,
   "metadata": {},
   "outputs": [],
   "source": [
    "high_ar_population = combined_df.sort_values('population', ascending=False).head(10)\n",
    "high_ar_population"
   ]
  },
  {
   "cell_type": "code",
   "execution_count": null,
   "metadata": {},
   "outputs": [],
   "source": [
    "plt.figure(figsize=(12,6))\n",
    "plt.xticks(rotation=75)\n",
    "plt.title('Highest Arab Countries in population')\n",
    "sns.barplot(high_ar_population.location, high_ar_population.population);"
   ]
  },
  {
   "cell_type": "code",
   "execution_count": null,
   "metadata": {},
   "outputs": [],
   "source": [
    "plt.title('Highest Arab Countries in population')\n",
    "high_ar_population.population.plot(kind='barh', color='blue');"
   ]
  },
  {
   "cell_type": "markdown",
   "metadata": {},
   "source": [
    "**Algeria is among the first 10 Arab countries in population. It ranks 2th. This explains (somewhat) why it's on both lists: high 'total_cases & total_deaths'**"
   ]
  },
  {
   "cell_type": "markdown",
   "metadata": {},
   "source": [
    "### Q 10): Is Algeria among the first 10 Arab countries in the number of hospital beds per thousand?"
   ]
  },
  {
   "cell_type": "code",
   "execution_count": null,
   "metadata": {},
   "outputs": [],
   "source": [
    "hosp_beds_per_thousand = combined_df.sort_values('hospital_beds_per_thousand', ascending=False).head(10)\n",
    "hosp_beds_per_thousand"
   ]
  },
  {
   "cell_type": "code",
   "execution_count": null,
   "metadata": {},
   "outputs": [],
   "source": [
    "plt.figure(figsize=(12,6))\n",
    "plt.xticks(rotation=75)\n",
    "plt.title('Highest Arab Countries in the number of hospital beds per thousand')\n",
    "sns.barplot(hosp_beds_per_thousand.location, hosp_beds_per_thousand.hospital_beds_per_thousand);"
   ]
  },
  {
   "cell_type": "code",
   "execution_count": null,
   "metadata": {},
   "outputs": [],
   "source": [
    "plt.title('Highest Arab Countries in the number of hospital beds per thousand')\n",
    "hosp_beds_per_thousand.hospital_beds_per_thousand.plot(kind='barh', color='gray');"
   ]
  },
  {
   "cell_type": "markdown",
   "metadata": {},
   "source": [
    "**Yes; Algeria is among the first 10 Arab countries in in the number of hospital beds per thousand. It ranks 8th**"
   ]
  },
  {
   "cell_type": "markdown",
   "metadata": {},
   "source": [
    "### Q 11): Is Algeria among the first 10 Arab countries in life expectancy?"
   ]
  },
  {
   "cell_type": "code",
   "execution_count": null,
   "metadata": {},
   "outputs": [],
   "source": [
    "life_expectancy_df = combined_df.sort_values('life_expectancy', ascending=False).head(10)\n",
    "life_expectancy_df"
   ]
  },
  {
   "cell_type": "code",
   "execution_count": null,
   "metadata": {},
   "outputs": [],
   "source": [
    "plt.figure(figsize=(12,6))\n",
    "plt.xticks(rotation=75)\n",
    "plt.title('Highest Arab Countries in life expectancy')\n",
    "sns.barplot(life_expectancy_df.location, life_expectancy_df.life_expectancy);"
   ]
  },
  {
   "cell_type": "code",
   "execution_count": null,
   "metadata": {},
   "outputs": [],
   "source": [
    "plt.title('Highest Arab Countries in life expectancy')\n",
    "life_expectancy_df.life_expectancy.plot(kind='pie');"
   ]
  },
  {
   "cell_type": "markdown",
   "metadata": {},
   "source": [
    "**Yes; Algeria is among the first 10 Arab countries in in life expectancy. It ranks 6th**"
   ]
  },
  {
   "cell_type": "markdown",
   "metadata": {},
   "source": [
    "### Q 12): Is Algeria among the first 10 Arab countries in GDP per capita?"
   ]
  },
  {
   "cell_type": "code",
   "execution_count": null,
   "metadata": {},
   "outputs": [],
   "source": [
    "high_ar_gdp_capta = combined_df.sort_values('gdp_per_capita', ascending=False).head(10)\n",
    "high_ar_gdp_capta"
   ]
  },
  {
   "cell_type": "code",
   "execution_count": null,
   "metadata": {},
   "outputs": [],
   "source": [
    "plt.figure(figsize=(12,6))\n",
    "plt.xticks(rotation=75)\n",
    "plt.title('Highest Arab Countries in GDP per capita')\n",
    "sns.barplot(high_ar_gdp_capta.location, high_ar_gdp_capta.gdp_per_capita);"
   ]
  },
  {
   "cell_type": "code",
   "execution_count": null,
   "metadata": {},
   "outputs": [],
   "source": [
    "plt.title('Highest Arab Countries in GDP per capita')\n",
    "high_ar_gdp_capta.gdp_per_capita.plot(kind='barh',color='green');"
   ]
  },
  {
   "cell_type": "markdown",
   "metadata": {},
   "source": [
    "**Yes; Algeria is among the first 10 Arab countries in GDP per capita. It ranks 9th**"
   ]
  },
  {
   "cell_type": "markdown",
   "metadata": {},
   "source": [
    "### Some selected charts"
   ]
  },
  {
   "cell_type": "code",
   "execution_count": null,
   "metadata": {},
   "outputs": [],
   "source": [
    "fig, axes = plt.subplots(2, 4, figsize=(20, 10))\n",
    "\n",
    "axes[0,0].set_title('COVID-19 Total Cases in Algeria Provinces')\n",
    "sns.barplot(provinces_df.province, provinces_df.total_cases, ax=axes[0,0]);\n",
    "\n",
    "axes[0,1].set_title('Provinces with the Highest Cases')\n",
    "sns.barplot(highest_prov_cases.province, highest_prov_cases.total_cases, ax=axes[0,1]);\n",
    "\n",
    "axes[0,2].set_title('COVID-19 Total Deaths in Algeria Provinces')\n",
    "sns.barplot(provinces_df.province, provinces_df.total_deaths, ax=axes[0,2]);\n",
    "\n",
    "axes[0,3].set_title('Provinces with the Highest Deaths')\n",
    "sns.barplot(highest_prov_deaths.province, highest_prov_deaths.total_deaths, ax=axes[0,3]);\n",
    "\n",
    "axes[1,0].set_title('Arab countries: Total cases in each continent')\n",
    "continent_cases_df.total_cases.plot(kind='pie', ax=axes[1,0]);\n",
    "\n",
    "axes[1,1].set_title('Arab countries: Total deaths in each continent')\n",
    "continent_deaths_df.total_deaths.plot(kind='pie', ax=axes[1,1]);\n",
    "\n",
    "axes[1,2].set_title('Arab Countries with the Highest Cases')\n",
    "sns.barplot(highest_cases_df.location, highest_cases_df.total_cases, ax=axes[1,2]);\n",
    "\n",
    "axes[1,3].set_title('Arab Countries with the Highest Deaths')\n",
    "sns.barplot(highest_deaths_df.location, highest_deaths_df.total_deaths, ax=axes[1,3]);\n",
    "\n",
    "plt.tight_layout(pad=2);"
   ]
  },
  {
   "cell_type": "code",
   "execution_count": null,
   "metadata": {},
   "outputs": [],
   "source": []
  },
  {
   "cell_type": "code",
   "execution_count": null,
   "metadata": {},
   "outputs": [],
   "source": [
    "import jovian"
   ]
  },
  {
   "cell_type": "code",
   "execution_count": null,
   "metadata": {},
   "outputs": [],
   "source": [
    "jovian.commit()"
   ]
  },
  {
   "cell_type": "markdown",
   "metadata": {},
   "source": [
    "# Inferences and Conclusion\n"
   ]
  },
  {
   "cell_type": "markdown",
   "metadata": {},
   "source": [
    "### Data Preparation and Cleaning\n",
    "\n",
    "* Data is provided for 275 days: from Dec 31, 2019 to Sep 30, 2020.\n",
    "* There are 5 missing new cases & 5 missing new deaths in the dataset\n",
    "* The first case was on Feb 26, 2020. \n",
    "* The first death was on March 13, 2020\n",
    "* All dates with the highest new cases are in July\n",
    "* Julyl 25, 2020 was the day with the highest new cases at all: 675\n",
    "* All dates with the highest new deaths are in April\n",
    "* April 04, 2020 was the day with the highest new deaths at all:42\n",
    "* Most dates with the lowest new cases & new deaths are in March\n"
   ]
  },
  {
   "cell_type": "markdown",
   "metadata": {},
   "source": [
    "### Exploratory Analysis and Visualization\n",
    "\n",
    "* The number of total cases is 51368 and the number of total deaths is 1726 in Algeria; Until September 30, 2020.\n",
    "* The average of total cases is 190 and the average of total deaths is 6 in Algeria\n",
    "* The overall death rate in Algeria is 3.36 %\n",
    "* The highest new cases are greater than 600\n",
    "* The highest new deaths are between 20 and 42\n",
    "* July was the month with the highest number of new cases 12823 and deaths 257\n",
    "* We notice that the disease has two waves of spread:\n",
    "  - The First: the speed of spread was medium\n",
    "  - The second: the speed of spread was very fast\n",
    "* Most new cases are lying in the range of fewer than 200 cases per day.\n",
    "* The number of deaths is very small compared to the very large number of cases.\n",
    "* Most new daths are lying in the range of fewer than 15 deaths per day.\n",
    "* The number of deaths is very small, over all days & months, which is a good sign.\n",
    "* Most of those who were infected have recovered.\n",
    "* The most cases are in months: July & August.\n",
    "* The most deaths are between April & September.\n",
    "* The most cases & deaths are in the summer season.\n",
    "* That is, Covid-19 spreads in the summer when the temperature rates are high, as well.\n"
   ]
  },
  {
   "cell_type": "markdown",
   "metadata": {},
   "source": [
    "### Asking and Answering Questions\n",
    "\n",
    "#### Part (I): Algeria & its Provinces\n",
    "\n",
    "* **The number of cases per million people in Algeria is low: less than 16** \n",
    "* **The number of deaths per million people in Algeria is very low: less than 1**\n",
    "* **Covid-19 spread throughout all Algeria.**\n",
    "* **Cases appeared in all provinces.**\n",
    "* **Blida is the Algerian province where the first confirmed case of COVID-19 infection appeared on March 1, 2020.**\n",
    "* **Note: On February 26, 2020, The confirmed case was of a foreign worker coming to Algeria from a foreign country.**\n",
    "\n",
    "#### Part (II): Algeria & Arab countries\n",
    "\n",
    "* **Covid-19 was spread across all Arab countries, not only in Algeria.**\n",
    "* **Algeria is among the first 10 Arab countries in the number of cases. It ranks 10th**\n",
    "* **Algeria is among the first 10 Arab countries in the number of deaths. It ranks 4th**\n",
    "* **Algeria is among the first 10 Arab countries in population. It ranks 2th. This explains (somewhat) why it's on both lists: high 'total_cases & total_deaths'**\n",
    "* **Algeria is among the first 10 Arab countries in in the number of hospital beds per thousand. It ranks 8th**\n",
    "* **Algeria is among the first 10 Arab countries in in life expectancy. It ranks 6th**\n",
    "* **Algeria is among the first 10 Arab countries in GDP per capita. It ranks 9th**\n"
   ]
  },
  {
   "cell_type": "markdown",
   "metadata": {},
   "source": [
    "### Conclusion\n",
    "\n",
    "The COVID-19 pandemic in Algeria is part of the worldwide pandemic. Blida is the Algerian province where the first confirmed case of COVID-19 infection appeared on March 1, 2020, and the first death was on March 13. The day with the highest new cases at all (675) was on July 25 and the day with the highest new deaths at all (42) was on April 04, 2020.\n",
    "\n",
    "The number of total cases on Sep 30, 2020, is 51368 and the number of total deaths is 1726, the overall death rate in Algeria is low which is a good sign. We noticed that the disease had two waves of spread and most cases and deaths were in the summer season. \n",
    "\n",
    "Covid-19 spread throughout all Algeria, cases appeared in all provinces. The highest number of cases & deaths was in Algiers, Blida, Oran, and Sétif.\n",
    "\n",
    "Algeria as a part of Arab countries, Covid-19 was spread across all Arab countries also and although Algeria appears on both high total_cases & high total_deaths due to its large population. However, it ranks first in many economic, social, and health indicators compared to the rest of the Arab countries, which explains the very small death rate in it and the very large number of recovered people, and these are good indicators that show that Algeria has managed to control the epidemiological situation and that it is on its way to completely eliminate the spread of Covid-19."
   ]
  },
  {
   "cell_type": "markdown",
   "metadata": {},
   "source": [
    "### Some selected charts"
   ]
  },
  {
   "cell_type": "code",
   "execution_count": null,
   "metadata": {},
   "outputs": [],
   "source": [
    "fig, axes = plt.subplots(2, 4, figsize=(20, 10))\n",
    "\n",
    "axes[0,0].set_title('Algeria')\n",
    "axes[0,0].imshow(img)\n",
    "axes[0,0].grid(False)\n",
    "axes[0,0].set_xticks([])\n",
    "axes[0,0].set_yticks([])\n",
    "\n",
    "axes[0,1].plot(months, new_cases,'s--b')\n",
    "axes[0,1].set_xlabel('Months')\n",
    "axes[0,1].set_ylabel('New Cases')\n",
    "axes[0,1].set_title(\"COVID-19 Monthly New Cases in Algeria\")\n",
    "axes[0,1].legend(['new cases']);\n",
    "\n",
    "axes[0,2].plot(months, new_deaths, 'o-r')\n",
    "axes[0,2].set_xlabel('Months')\n",
    "axes[0,2].set_ylabel('New Deaths')\n",
    "axes[0,2].set_title(\"COVID-19 Monthly New Deaths in Algeria\")\n",
    "axes[0,2].legend(['new deaths']);\n",
    "\n",
    "axes[0,3].plot(months, new_cases, 's--b')\n",
    "axes[0,3].plot(months, new_deaths, 'o-r')\n",
    "axes[0,3].set_xlabel('Months')\n",
    "axes[0,3].set_ylabel('Values')\n",
    "axes[0,3].set_title(\"Monthly New Cases & New Deaths in Algeria\")\n",
    "axes[0,3].legend(['new cases', 'new deaths']);\n",
    "\n",
    "axes[1,0].set_title('New Cases Range in Algeria')\n",
    "axes[1,0].set_xlabel('New Cases')\n",
    "axes[1,0].set_ylabel('Values')\n",
    "axes[1,0].hist(covid_dz.new_cases, bins=np.arange(1, 675, 10), color='orchid');\n",
    "\n",
    "axes[1,1].set_title('New Deaths Range in Algeria')\n",
    "axes[1,1].set_xlabel('New Deaths')\n",
    "axes[1,1].set_ylabel('Values')\n",
    "axes[1,1].hist(covid_dz.new_deaths, bins=np.arange(1, 42, 1), color='hotpink');\n",
    "\n",
    "axes[1,2].set_title(\"COVID-19 Monthly New Cases\")\n",
    "axes[1,2].bar(months, new_cases, color='blueviolet')\n",
    "axes[1,2].legend(['new cases', 'new deaths']);\n",
    "\n",
    "axes[1,3].set_title(\"COVID-19 Monthly New Cases & New Deaths in Algeria\")\n",
    "axes[1,3].bar(months, new_cases,color='blueviolet' )\n",
    "axes[1,3].bar(months, new_deaths, color='orangered')\n",
    "axes[1,3].legend(['new cases', 'new deaths']);\n",
    "\n",
    "plt.tight_layout(pad=2);"
   ]
  },
  {
   "cell_type": "code",
   "execution_count": null,
   "metadata": {},
   "outputs": [],
   "source": [
    "fig, axes = plt.subplots(2, 4, figsize=(20, 10))\n",
    "\n",
    "axes[0,0].set_title('COVID-19 Total Cases in Algeria Provinces')\n",
    "sns.barplot(provinces_df.province, provinces_df.total_cases, ax=axes[0,0]);\n",
    "\n",
    "axes[0,1].set_title('Provinces with the Highest Cases')\n",
    "sns.barplot(highest_prov_cases.province, highest_prov_cases.total_cases, ax=axes[0,1]);\n",
    "\n",
    "axes[0,2].set_title('COVID-19 Total Deaths in Algeria Provinces')\n",
    "sns.barplot(provinces_df.province, provinces_df.total_deaths, ax=axes[0,2]);\n",
    "\n",
    "axes[0,3].set_title('Provinces with the Highest Deaths')\n",
    "sns.barplot(highest_prov_deaths.province, highest_prov_deaths.total_deaths, ax=axes[0,3]);\n",
    "\n",
    "axes[1,0].set_title('Arab countries: Total cases in each continent')\n",
    "continent_cases_df.total_cases.plot(kind='pie', ax=axes[1,0]);\n",
    "\n",
    "axes[1,1].set_title('Arab countries: Total deaths in each continent')\n",
    "continent_deaths_df.total_deaths.plot(kind='pie', ax=axes[1,1]);\n",
    "\n",
    "axes[1,2].set_title('Arab Countries with the Highest Cases')\n",
    "sns.barplot(highest_cases_df.location, highest_cases_df.total_cases, ax=axes[1,2]);\n",
    "\n",
    "axes[1,3].set_title('Arab Countries with the Highest Deaths')\n",
    "sns.barplot(highest_deaths_df.location, highest_deaths_df.total_deaths, ax=axes[1,3]);\n",
    "\n",
    "plt.tight_layout(pad=2);"
   ]
  },
  {
   "cell_type": "code",
   "execution_count": null,
   "metadata": {},
   "outputs": [],
   "source": []
  },
  {
   "cell_type": "code",
   "execution_count": null,
   "metadata": {},
   "outputs": [],
   "source": [
    "import jovian"
   ]
  },
  {
   "cell_type": "code",
   "execution_count": null,
   "metadata": {},
   "outputs": [],
   "source": [
    "jovian.commit()"
   ]
  },
  {
   "cell_type": "markdown",
   "metadata": {},
   "source": [
    "# References and Future Work\n"
   ]
  },
  {
   "cell_type": "markdown",
   "metadata": {},
   "source": [
    "* Analyzing Tabular Data using Python and Pandas: https://jovian.ml/aakashns/python-pandas-data-analysis\n",
    "* Our World In Data: https://ourworldindata.org/coronavirus-source-data\n",
    "* COVID-19 pandemic in Algeria: http://www.wikiwand.com/en/COVID-19_pandemic_in_Algeria"
   ]
  },
  {
   "cell_type": "markdown",
   "metadata": {},
   "source": [
    "### Future Work\n",
    "\n",
    "* Analysis of COVID-19 data in Algeria Provinces and Comparison: Daily cases & deaths."
   ]
  },
  {
   "cell_type": "markdown",
   "metadata": {},
   "source": [
    "# Call\n",
    "\n",
    "### \" Victims of COVID-19, for the love of humanity and justice, unite: To compel The International Court of Justice to conduct a serious and thorough investigation of possible criminals responsible for the creation and spread of the pandemic around the world. Criminals must pay for their crimes against humanity.\"\n",
    "\n",
    "**By Dr. Ameziane Hocine. E.N.S-Constantine; Algeria.**\n"
   ]
  },
  {
   "cell_type": "code",
   "execution_count": null,
   "metadata": {},
   "outputs": [],
   "source": []
  },
  {
   "cell_type": "code",
   "execution_count": null,
   "metadata": {},
   "outputs": [],
   "source": [
    "import jovian"
   ]
  },
  {
   "cell_type": "code",
   "execution_count": null,
   "metadata": {},
   "outputs": [],
   "source": [
    "jovian.commit()"
   ]
  },
  {
   "cell_type": "code",
   "execution_count": null,
   "metadata": {},
   "outputs": [],
   "source": []
  }
 ],
 "metadata": {
  "kernelspec": {
   "display_name": "Python 3",
   "language": "python",
   "name": "python3"
  },
  "language_info": {
   "codemirror_mode": {
    "name": "ipython",
    "version": 3
   },
   "file_extension": ".py",
   "mimetype": "text/x-python",
   "name": "python",
   "nbconvert_exporter": "python",
   "pygments_lexer": "ipython3",
   "version": "3.7.4"
  }
 },
 "nbformat": 4,
 "nbformat_minor": 4
}
